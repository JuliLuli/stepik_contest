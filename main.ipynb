{
 "cells": [
  {
   "cell_type": "raw",
   "id": "8e98c910",
   "metadata": {
    "pycharm": {
     "name": "#%% raw\n"
    }
   },
   "source": [
    "Нужно предсказать, сможет ли пользователь успешно закончить онлайн курс на Stepik.\n",
    "На основе двух дней активности пользователя на курсе предскажем вероятность, \n",
    "что он наберет 40 баллов и более.\n",
    "Результатом проверки точности предсказаний будет ROC AUC. \n",
    "\n",
    "Что мы имеем:\n",
    "data/events_data_train.zip - тренировочные данные о целевых действиях юзеров на курсе\n",
    "data/events_data_test.zip - тестовые данные о целевых действиях юзеров на курсе, с данными за первые 2 дня\n",
    "data/submission_data_train.zip - тренировочные данные со статусом задачи (решена правильно/неправильно)\n",
    "data/submission_data_test.zip - тестовые данные со статусом задачи (решена правильно/неправильно), с данными за первые 2 дня"
   ]
  },
  {
   "cell_type": "code",
   "execution_count": 1,
   "id": "ce6ee6d5",
   "metadata": {
    "pycharm": {
     "name": "#%%\n"
    }
   },
   "outputs": [],
   "source": [
    "from datetime import datetime\n",
    "\n",
    "import pandas as pd\n",
    "from sklearn.ensemble import RandomForestClassifier\n",
    "from sklearn.metrics import roc_auc_score\n",
    "from sklearn.model_selection import GridSearchCV\n",
    "from sklearn.model_selection import train_test_split"
   ]
  },
  {
   "cell_type": "code",
   "execution_count": 2,
   "id": "68aaaa21",
   "metadata": {
    "pycharm": {
     "name": "#%%\n"
    }
   },
   "outputs": [
    {
     "data": {
      "text/html": [
       "<div>\n",
       "<style scoped>\n",
       "    .dataframe tbody tr th:only-of-type {\n",
       "        vertical-align: middle;\n",
       "    }\n",
       "\n",
       "    .dataframe tbody tr th {\n",
       "        vertical-align: top;\n",
       "    }\n",
       "\n",
       "    .dataframe thead th {\n",
       "        text-align: right;\n",
       "    }\n",
       "</style>\n",
       "<table border=\"1\" class=\"dataframe\">\n",
       "  <thead>\n",
       "    <tr style=\"text-align: right;\">\n",
       "      <th></th>\n",
       "      <th>step_id</th>\n",
       "      <th>timestamp</th>\n",
       "      <th>action</th>\n",
       "      <th>user_id</th>\n",
       "    </tr>\n",
       "  </thead>\n",
       "  <tbody>\n",
       "    <tr>\n",
       "      <th>0</th>\n",
       "      <td>32815</td>\n",
       "      <td>1434340848</td>\n",
       "      <td>viewed</td>\n",
       "      <td>17632</td>\n",
       "    </tr>\n",
       "    <tr>\n",
       "      <th>1</th>\n",
       "      <td>32815</td>\n",
       "      <td>1434340848</td>\n",
       "      <td>passed</td>\n",
       "      <td>17632</td>\n",
       "    </tr>\n",
       "    <tr>\n",
       "      <th>2</th>\n",
       "      <td>32815</td>\n",
       "      <td>1434340848</td>\n",
       "      <td>discovered</td>\n",
       "      <td>17632</td>\n",
       "    </tr>\n",
       "    <tr>\n",
       "      <th>3</th>\n",
       "      <td>32811</td>\n",
       "      <td>1434340895</td>\n",
       "      <td>discovered</td>\n",
       "      <td>17632</td>\n",
       "    </tr>\n",
       "    <tr>\n",
       "      <th>4</th>\n",
       "      <td>32811</td>\n",
       "      <td>1434340895</td>\n",
       "      <td>viewed</td>\n",
       "      <td>17632</td>\n",
       "    </tr>\n",
       "  </tbody>\n",
       "</table>\n",
       "</div>"
      ],
      "text/plain": [
       "   step_id   timestamp      action  user_id\n",
       "0    32815  1434340848      viewed    17632\n",
       "1    32815  1434340848      passed    17632\n",
       "2    32815  1434340848  discovered    17632\n",
       "3    32811  1434340895  discovered    17632\n",
       "4    32811  1434340895      viewed    17632"
      ]
     },
     "execution_count": 2,
     "metadata": {},
     "output_type": "execute_result"
    }
   ],
   "source": [
    "events_data_train = pd.read_csv('data/event_data_train.zip')\n",
    "events_data_train.head()"
   ]
  },
  {
   "cell_type": "code",
   "execution_count": 3,
   "id": "35ab64eb",
   "metadata": {
    "pycharm": {
     "name": "#%%\n"
    }
   },
   "outputs": [
    {
     "data": {
      "text/html": [
       "<div>\n",
       "<style scoped>\n",
       "    .dataframe tbody tr th:only-of-type {\n",
       "        vertical-align: middle;\n",
       "    }\n",
       "\n",
       "    .dataframe tbody tr th {\n",
       "        vertical-align: top;\n",
       "    }\n",
       "\n",
       "    .dataframe thead th {\n",
       "        text-align: right;\n",
       "    }\n",
       "</style>\n",
       "<table border=\"1\" class=\"dataframe\">\n",
       "  <thead>\n",
       "    <tr style=\"text-align: right;\">\n",
       "      <th></th>\n",
       "      <th>step_id</th>\n",
       "      <th>timestamp</th>\n",
       "      <th>submission_status</th>\n",
       "      <th>user_id</th>\n",
       "    </tr>\n",
       "  </thead>\n",
       "  <tbody>\n",
       "    <tr>\n",
       "      <th>0</th>\n",
       "      <td>31971</td>\n",
       "      <td>1434349275</td>\n",
       "      <td>correct</td>\n",
       "      <td>15853</td>\n",
       "    </tr>\n",
       "    <tr>\n",
       "      <th>1</th>\n",
       "      <td>31972</td>\n",
       "      <td>1434348300</td>\n",
       "      <td>correct</td>\n",
       "      <td>15853</td>\n",
       "    </tr>\n",
       "    <tr>\n",
       "      <th>2</th>\n",
       "      <td>31972</td>\n",
       "      <td>1478852149</td>\n",
       "      <td>wrong</td>\n",
       "      <td>15853</td>\n",
       "    </tr>\n",
       "    <tr>\n",
       "      <th>3</th>\n",
       "      <td>31972</td>\n",
       "      <td>1478852164</td>\n",
       "      <td>correct</td>\n",
       "      <td>15853</td>\n",
       "    </tr>\n",
       "    <tr>\n",
       "      <th>4</th>\n",
       "      <td>31976</td>\n",
       "      <td>1434348123</td>\n",
       "      <td>wrong</td>\n",
       "      <td>15853</td>\n",
       "    </tr>\n",
       "  </tbody>\n",
       "</table>\n",
       "</div>"
      ],
      "text/plain": [
       "   step_id   timestamp submission_status  user_id\n",
       "0    31971  1434349275           correct    15853\n",
       "1    31972  1434348300           correct    15853\n",
       "2    31972  1478852149             wrong    15853\n",
       "3    31972  1478852164           correct    15853\n",
       "4    31976  1434348123             wrong    15853"
      ]
     },
     "execution_count": 3,
     "metadata": {},
     "output_type": "execute_result"
    }
   ],
   "source": [
    "submission_data_train = pd.read_csv('data/submissions_data_train.zip')\n",
    "submission_data_train.head()"
   ]
  },
  {
   "cell_type": "markdown",
   "id": "9b75b422",
   "metadata": {
    "pycharm": {
     "name": "#%% md\n"
    }
   },
   "source": [
    "# preprocessing"
   ]
  },
  {
   "cell_type": "code",
   "execution_count": 4,
   "id": "5d6e4386",
   "metadata": {
    "pycharm": {
     "name": "#%%\n"
    }
   },
   "outputs": [],
   "source": [
    "def main_features(events, submission):\n",
    "    # таблица с действиями юзеров\n",
    "    events_pivot = pd.pivot_table(events, \n",
    "                                  values='step_id',\n",
    "                                  index='user_id', \n",
    "                                  columns='action',\n",
    "                                  aggfunc='count', \n",
    "                                  fill_value=0) \\\n",
    "                               .reset_index() \\\n",
    "                               .rename_axis('', axis=1)\n",
    "    \n",
    "    # таблица с количеством правильных и неправильных ответов\n",
    "    submissions_pivot = pd.pivot_table(submission, \n",
    "                                       values='step_id',\n",
    "                                       index='user_id',\n",
    "                                       columns='submission_status',\n",
    "                                       aggfunc='count',\n",
    "                                       fill_value=0) \\\n",
    "                                    .reset_index() \\\n",
    "                                    .rename_axis('', axis=1)\n",
    "    \n",
    "    users_data = submissions_pivot.merge(events_pivot, on='user_id', how='outer').fillna(0)\n",
    "    \n",
    "    assert users_data['user_id'].nunique() == events['user_id'].nunique()\n",
    "    \n",
    "    return users_data"
   ]
  },
  {
   "cell_type": "code",
   "execution_count": 5,
   "id": "4b5eea6c",
   "metadata": {
    "pycharm": {
     "name": "#%%\n"
    }
   },
   "outputs": [],
   "source": [
    "# Количество дней обучения юзера, \n",
    "# на основе которых будем предсказывать вероятность того, \n",
    "# что юзер пройдет курс до конца\n",
    "days_count = 2\n",
    "\n",
    "# Дни в секундах\n",
    "limit_period = days_count * 24 * 3600\n",
    "\n",
    "# Порог: если юзер решил correct_answers_count практических заданий,\n",
    "# то предполагаем, что он закончит курс\n",
    "# (функция target)\n",
    "correct_answers_count = 40"
   ]
  },
  {
   "cell_type": "code",
   "execution_count": 6,
   "id": "af20f77f",
   "metadata": {
    "pycharm": {
     "name": "#%%\n"
    }
   },
   "outputs": [],
   "source": [
    "def datetime_filter(df):\n",
    "    # отбираем записи действий юзеров в течение days_count-дней с начала учебы\n",
    "    \n",
    "    # вычисляем дату первого действия юзера на курсе\n",
    "    learning_start_time = df.groupby('user_id').agg({'timestamp': 'min'}) \\\n",
    "                            .rename(columns={'timestamp': 'min_timestamp'}) \\\n",
    "                            .reset_index()\n",
    "    \n",
    "    datetime_filtered = df.merge(learning_start_time, how='outer')\n",
    "    \n",
    "    # отбираем записи действий юзеров в течение двух дней с начала учебы\n",
    "    datetime_filtered = datetime_filtered[datetime_filtered['timestamp'] <= datetime_filtered['min_timestamp'] + limit_period]\n",
    "    \n",
    "    # проверяем, что в процессе фильтрации не потеряли юзеров\n",
    "    assert datetime_filtered['user_id'].nunique() == df['user_id'].nunique()\n",
    "    \n",
    "    datetime_filtered = datetime_filtered.drop(['min_timestamp'], axis=1)\n",
    "\n",
    "    return datetime_filtered"
   ]
  },
  {
   "cell_type": "code",
   "execution_count": 7,
   "id": "2c8f9b00",
   "metadata": {
    "pycharm": {
     "name": "#%%\n"
    }
   },
   "outputs": [],
   "source": [
    "def unique_steps_counter(submission):\n",
    "    # количество уникальных степов, которые юзер пробовал выполнить\n",
    "    unique_steps_count = submission.groupby('user_id')['step_id'].nunique().to_frame().reset_index() \\\n",
    "                                        .rename(columns={'step_id': 'unique_steps_count'})\n",
    "    \n",
    "    return unique_steps_count"
   ]
  },
  {
   "cell_type": "code",
   "execution_count": 8,
   "id": "098e26f4",
   "metadata": {
    "pycharm": {
     "name": "#%%\n"
    }
   },
   "outputs": [],
   "source": [
    "def correct_answers(df):\n",
    "    # получаем долю правильных ответов для каждого юзера\n",
    "    df['correct'] = (df['correct'] / (df['correct'] + df['wrong'])).fillna(0)\n",
    "\n",
    "    return df"
   ]
  },
  {
   "cell_type": "code",
   "execution_count": 9,
   "id": "cd436cad",
   "metadata": {
    "pycharm": {
     "name": "#%%\n"
    }
   },
   "outputs": [],
   "source": [
    "def target(submission):\n",
    "    # предполагаем, если пользователь выполнил 40 заданий, то он закончит курс\n",
    "    \n",
    "    users_count_correct = submission[submission['submission_status'] == 'correct'] \\\n",
    "                .groupby('user_id').agg({'step_id': 'count'}) \\\n",
    "                .reset_index().rename(columns={'step_id': 'correct_answers_count'})\n",
    "    \n",
    "    users_count_correct['passed_course'] = users_count_correct['correct_answers_count'] >= correct_answers_count\n",
    "\n",
    "    users_count_correct = users_count_correct.drop(['correct_answers_count'], axis=1)\n",
    "    return users_count_correct"
   ]
  },
  {
   "cell_type": "markdown",
   "id": "dd338440",
   "metadata": {
    "pycharm": {
     "name": "#%% md\n"
    }
   },
   "source": [
    "# формируем тренировочный и тестовый датасэты"
   ]
  },
  {
   "cell_type": "code",
   "execution_count": 10,
   "id": "005141b4",
   "metadata": {
    "pycharm": {
     "name": "#%%\n"
    }
   },
   "outputs": [],
   "source": [
    "def create_train_df(events, submission):\n",
    "    # формируем тренировочный датасэт в признаками и таргетом\n",
    "    \n",
    "    # фильтруем данные по дням от начала учебы\n",
    "    events_2days = datetime_filter(events)\n",
    "    submissions_2days = datetime_filter(submission)\n",
    "    \n",
    "    # создаем таблицу с базовыми фичами\n",
    "    users_data = main_features(events_2days, submissions_2days)\n",
    "    \n",
    "    # создаем целевую переменную\n",
    "    users_count_correct = target(submission)\n",
    "\n",
    "    # создаем фичи с попытками степов и долей правильных ответов\n",
    "    unique_steps_count = unique_steps_counter(submissions_2days)\n",
    "    users_data = correct_answers(users_data)\n",
    "    \n",
    "    # соединяем шаги\n",
    "    merge1 = users_data.merge(unique_steps_count, how='outer').fillna(0)\n",
    "    # присоединяем целевую переменную\n",
    "    merge2 = merge1.merge(users_count_correct, how='outer').fillna(0)\n",
    "    \n",
    "    # отделяем целевую переменную и удаляем ее из основного датасета\n",
    "    y = merge2['passed_course'].map(int)\n",
    "    X = merge2.drop(['passed_course'], axis=1)\n",
    "    \n",
    "    return X, y"
   ]
  },
  {
   "cell_type": "code",
   "execution_count": 11,
   "id": "a402ccc0",
   "metadata": {
    "pycharm": {
     "name": "#%%\n"
    }
   },
   "outputs": [],
   "source": [
    "def create_test_df(events, submission):\n",
    "    # формируем тренировочный датасэт\n",
    "    \n",
    "    # фильтруем данные по дням от начала учебы\n",
    "    events_2days = datetime_filter(events)\n",
    "    submissions_2days = datetime_filter(submission)\n",
    "    \n",
    "    # создаем таблицу с базовыми фичами\n",
    "    users_data = main_features(events_2days, submissions_2days)\n",
    "    \n",
    "    # создаем фичи с попытками степов и долей правильных ответов\n",
    "    unique_steps_count = unique_steps_counter(submissions_2days)\n",
    "    users_data = correct_answers(users_data)\n",
    "\n",
    "    X = users_data.merge(unique_steps_count, how='outer').fillna(0)\n",
    "       \n",
    "    return X"
   ]
  },
  {
   "cell_type": "code",
   "execution_count": 12,
   "id": "cddabbcf",
   "metadata": {
    "pycharm": {
     "name": "#%%\n"
    }
   },
   "outputs": [],
   "source": [
    "# тренировочный датасет\n",
    "events_data_train = pd.read_csv('data/event_data_train.zip')\n",
    "submission_data_train = pd.read_csv('data/submissions_data_train.zip')\n",
    "\n",
    "# тестовый датасет\n",
    "events_data_test = pd.read_csv('data/events_data_test.zip')\n",
    "submission_data_test = pd.read_csv('data/submission_data_test.zip')"
   ]
  },
  {
   "cell_type": "code",
   "execution_count": 13,
   "id": "8e8a9836",
   "metadata": {
    "pycharm": {
     "name": "#%%\n"
    }
   },
   "outputs": [],
   "source": [
    "# создание тренировочного датасета\n",
    "X_train, y_train = create_train_df(events_data_train, submission_data_train)"
   ]
  },
  {
   "cell_type": "code",
   "execution_count": 14,
   "id": "2db1b596",
   "metadata": {
    "pycharm": {
     "name": "#%%\n"
    }
   },
   "outputs": [],
   "source": [
    "# создание тестового датасета\n",
    "X_test = create_test_df(events_data_test, submission_data_test)"
   ]
  },
  {
   "cell_type": "markdown",
   "id": "bb48dcf5",
   "metadata": {
    "pycharm": {
     "name": "#%% md\n"
    }
   },
   "source": [
    "# обучение модели"
   ]
  },
  {
   "cell_type": "code",
   "execution_count": 15,
   "id": "fbb8ff1d",
   "metadata": {
    "pycharm": {
     "name": "#%%\n"
    }
   },
   "outputs": [],
   "source": [
    "def best_grid(train_data, y):\n",
    "    # Обучение модели и вычисление лучших параметров модели \n",
    "    X_train, X_test, y_train, y_test = train_test_split(train_data, \n",
    "                                                        y, \n",
    "                                                        test_size=0.3, \n",
    "                                                        random_state=40)\n",
    "    \n",
    "    parameters = {'n_estimators': range(20, 45, 2), \n",
    "                  'max_depth': range(5, 13)}\n",
    "    \n",
    "    clf = RandomForestClassifier()\n",
    "    grid = GridSearchCV(clf, \n",
    "                        param_grid=parameters, \n",
    "                        cv=5)\n",
    "    grid.fit(X_train, y_train)\n",
    "    best_params = grid.best_params_\n",
    "    print(f'Лучшие параметры модели: {best_params}')\n",
    "    ypred_prob = grid.predict_proba(X_test)\n",
    "    roc_score = roc_auc_score(y_test, ypred_prob[:, 1])\n",
    "    score = grid.score(X_train, y_train)\n",
    "    print(f'Доля верных предсказаний на тренировочных данных: {score:.3f}')\n",
    "    print(f'roc_score: {roc_score:.3f}')\n",
    "    return best_params"
   ]
  },
  {
   "cell_type": "code",
   "execution_count": 16,
   "id": "30b9966d",
   "metadata": {
    "pycharm": {
     "name": "#%%\n"
    }
   },
   "outputs": [
    {
     "name": "stdout",
     "output_type": "stream",
     "text": [
      "Лучшие параметры модели: {'max_depth': 7, 'n_estimators': 42}\n",
      "Доля верных предсказаний на тренировочных данных: 0.912\n",
      "roc_score: 0.891\n",
      "Время работы: 0:01:03.201102\n"
     ]
    }
   ],
   "source": [
    "start_time = datetime.now()\n",
    "best_params = best_grid(X_train, y_train)\n",
    "end_time = datetime.now()\n",
    "print(f'Время работы: {end_time - start_time}')"
   ]
  },
  {
   "cell_type": "code",
   "execution_count": 17,
   "id": "31761e51",
   "metadata": {
    "pycharm": {
     "name": "#%%\n"
    }
   },
   "outputs": [],
   "source": [
    "max_depth = best_params['max_depth']\n",
    "n_estimators = best_params['n_estimators']"
   ]
  },
  {
   "cell_type": "code",
   "execution_count": 18,
   "id": "f30cb900",
   "metadata": {
    "pycharm": {
     "name": "#%%\n"
    }
   },
   "outputs": [],
   "source": [
    "def prediction(train_df, y, test_df):\n",
    "    # Обучение с лучшими параметрами\n",
    "    test_data = test_df.sort_values('user_id')\n",
    "    X_train, X_test, y_train, y_test = train_test_split(train_df, \n",
    "                                                        y, \n",
    "                                                        test_size=0.3, \n",
    "                                                        random_state=40)\n",
    "    best_clf = RandomForestClassifier(max_depth=max_depth,\n",
    "                                      n_estimators=n_estimators,  \n",
    "                                      random_state=42)\n",
    "    best_clf.fit(X_train, y_train)\n",
    "\n",
    "    ypred_prob = best_clf.predict_proba(X_test)\n",
    "    \n",
    "    roc_score = roc_auc_score(y_test, ypred_prob[:, 1])\n",
    "    score = best_clf.score(X_test, y_test)\n",
    "    \n",
    "    print(f'Доля верных предсказаний на тестовых данных: {score:.3f}')\n",
    "    print(f'roc_score тестовых данных : {roc_score:.3f}')\n",
    "    \n",
    "    predictions = best_clf.predict_proba(test_data)\n",
    "    res = test_data['user_id'].to_frame()\n",
    "    \n",
    "    # из массива, сформированного predict_proba, \n",
    "    # оставляем только поле, показывающее вероятность, что юзер закончит курс\n",
    "    res['is_gone'] = predictions[:, 1]\n",
    "    # запись в csv\n",
    "    res[['user_id', 'is_gone']].to_csv('predictions.csv', index=False)"
   ]
  },
  {
   "cell_type": "code",
   "execution_count": 19,
   "id": "1e1bf9fc",
   "metadata": {
    "pycharm": {
     "name": "#%%\n"
    }
   },
   "outputs": [
    {
     "name": "stdout",
     "output_type": "stream",
     "text": [
      "Доля верных предсказаний на тестовых данных: 0.902\n",
      "roc_score тестовых данных : 0.891\n"
     ]
    }
   ],
   "source": [
    "prediction(X_train, y_train, X_test)"
   ]
  }
 ],
 "metadata": {
  "kernelspec": {
   "display_name": "Python 3 (ipykernel)",
   "language": "python",
   "name": "python3"
  },
  "language_info": {
   "codemirror_mode": {
    "name": "ipython",
    "version": 3
   },
   "file_extension": ".py",
   "mimetype": "text/x-python",
   "name": "python",
   "nbconvert_exporter": "python",
   "pygments_lexer": "ipython3",
   "version": "3.8.10"
  }
 },
 "nbformat": 4,
 "nbformat_minor": 5
}